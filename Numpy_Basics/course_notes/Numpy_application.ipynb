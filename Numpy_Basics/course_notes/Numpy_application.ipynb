{
 "cells": [
  {
   "metadata": {},
   "cell_type": "markdown",
   "source": "# Numpy 練習",
   "id": "e0614090f58ed300"
  },
  {
   "metadata": {},
   "cell_type": "markdown",
   "source": [
    "### 題目1：溫度資料分析\n",
    "### 某城市一週的最高溫為[28,30,29,31,32,30,29]。\n",
    "### - 計算平均氣溫、最高氣溫和最低氣溫。\n",
    "### - 找出氣溫超過30度的天數。"
   ],
   "id": "d2cb0c01d32e9090"
  },
  {
   "metadata": {
    "ExecuteTime": {
     "end_time": "2025-08-27T09:05:05.903859Z",
     "start_time": "2025-08-27T09:05:05.898861Z"
    }
   },
   "cell_type": "code",
   "source": [
    "from array import array\n",
    "from itertools import count\n",
    "\n",
    "import numpy as np\n",
    "\n",
    "temps = np.array([28,30,29,31,32,30,29])\n",
    "print(temps)\n",
    "\n",
    "print('平均氣溫：', '%.3f'%np.mean(temps))\n",
    "print('最高氣溫：',np.max(temps))\n",
    "print('最低氣溫：',np.min(temps))\n",
    "print('氣溫超過30的天數：', len(temps[temps>30]))\n",
    "\n",
    "# 其他解法\n",
    "# print('氣溫超過30的天數：', temps[temps>30].size)\n",
    "# print('氣溫超過30的天數：', np.sum(temps>30))\n",
    "# print('氣溫超過30的天數：', np.cumsum(np.where(temps>30, 1, 0))[-1])\n",
    "# print('氣溫超過30的天數：', np.sum(np.where(temps>30, 1, 0)))\n",
    "# print('氣溫超過30的天數：', np.count_nonzero(temps>30))"
   ],
   "id": "7d70442966e63dd2",
   "outputs": [
    {
     "name": "stdout",
     "output_type": "stream",
     "text": [
      "[28 30 29 31 32 30 29]\n",
      "平均氣溫： 29.857\n",
      "最高氣溫： 32\n",
      "最低氣溫： 28\n",
      "氣溫超過30的天數： 2\n"
     ]
    }
   ],
   "execution_count": 32
  },
  {
   "metadata": {},
   "cell_type": "markdown",
   "source": [
    "### 題目2：學生成績統計\n",
    "### 某班級5名學生的數學成績為[85,90,78,92,88]\n",
    "### - 計算成績的平均分數、中位數和標準差。\n",
    "### - 將成績轉換為十分制(假設滿分為 10)。"
   ],
   "id": "d50e7ab99ff0463"
  },
  {
   "metadata": {
    "ExecuteTime": {
     "end_time": "2025-08-27T09:12:37.197779Z",
     "start_time": "2025-08-27T09:12:37.192284Z"
    }
   },
   "cell_type": "code",
   "source": [
    "score = np.array([85,90,78,92,88])\n",
    "print(score)\n",
    "print(np.sort(score))\n",
    "print(\"5名學生的平均分：\", np.mean(score))\n",
    "print(\"5名學生的中位數：\", np.median(score))\n",
    "print(\"5名學生的變異數：\", np.var(score))\n",
    "print(\"5名學生的標準差：%.3f\"% np.std(score))\n",
    "print(\"5名學生的成績：\", score / 10)"
   ],
   "id": "fc871b37b9e0f718",
   "outputs": [
    {
     "name": "stdout",
     "output_type": "stream",
     "text": [
      "[85 90 78 92 88]\n",
      "[78 85 88 90 92]\n",
      "5名學生的平均分： 86.6\n",
      "5名學生的中位數： 88.0\n",
      "5名學生的標準差： 23.84\n",
      "5名學生的方差：4.883\n",
      "5名學生的成績： [8.5 9.  7.8 9.2 8.8]\n"
     ]
    }
   ],
   "execution_count": 43
  },
  {
   "metadata": {},
   "cell_type": "markdown",
   "source": [
    "### 題目3：矩陣運算\n",
    "### 給定矩陣A=[[1, 2],[3, 4]]和B=[[5, 6],[7, 8]]。\n",
    "### - 計算A+B和A*B(逐元素乘法)。\n",
    "### - 計算A和B的矩陣乘法(點積)。"
   ],
   "id": "b1178e6ada020add"
  },
  {
   "metadata": {
    "ExecuteTime": {
     "end_time": "2025-08-27T09:17:17.830686Z",
     "start_time": "2025-08-27T09:17:17.825171Z"
    }
   },
   "cell_type": "code",
   "source": [
    "A = np.array([[1,2],[3,4]])\n",
    "B = np.array([[5,6],[7,8]])\n",
    "print(A)\n",
    "print(B)\n",
    "\n",
    "print(A + B)\n",
    "print(A * B)\n",
    "# print(A @ B)\n",
    "print(np.dot(A,B))"
   ],
   "id": "16778d3b37654aef",
   "outputs": [
    {
     "name": "stdout",
     "output_type": "stream",
     "text": [
      "[[1 2]\n",
      " [3 4]]\n",
      "[[5 6]\n",
      " [7 8]]\n",
      "[[ 6  8]\n",
      " [10 12]]\n",
      "[[ 5 12]\n",
      " [21 32]]\n",
      "[[19 22]\n",
      " [43 50]]\n",
      "[[19 22]\n",
      " [43 50]]\n"
     ]
    }
   ],
   "execution_count": 49
  },
  {
   "metadata": {},
   "cell_type": "markdown",
   "source": [
    "### 題目4:隨機資料生成\n",
    "### 產生一個(3,4)的隨機整數陣列,範圍[0,10)。\n",
    "### - 計算每列的最大值和每行的最小值。\n",
    "### - 將陣列中的所有奇數替換為-1。"
   ],
   "id": "bbb77cbc43698ab7"
  },
  {
   "metadata": {
    "ExecuteTime": {
     "end_time": "2025-08-27T09:31:34.306755Z",
     "start_time": "2025-08-27T09:31:34.302746Z"
    }
   },
   "cell_type": "code",
   "source": [
    "np.random.seed(0)\n",
    "arr = np.random.randint(0,10, [3,4])\n",
    "print(arr)\n",
    "print(\"每列的最大值：\", np.max(arr, axis=0))  # 列：axis=0, 行：axis=1 \n",
    "print(\"每行的最小值：\", np.min(arr, axis=1))\n",
    "# print(\"所有基數替換為-1：\", np.where(arr%2 == 1, -1, arr))\n",
    "arr[arr%2 == 1] = -1\n",
    "print(arr)"
   ],
   "id": "8ceb101d62e03d50",
   "outputs": [
    {
     "name": "stdout",
     "output_type": "stream",
     "text": [
      "[[5 0 3 3]\n",
      " [7 9 3 5]\n",
      " [2 4 7 6]]\n",
      "每列的最大值： [7 9 7 6]\n",
      "每行的最小值： [0 3 2]\n",
      "[[-1  0 -1 -1]\n",
      " [-1 -1 -1 -1]\n",
      " [ 2  4 -1  6]]\n"
     ]
    }
   ],
   "execution_count": 63
  },
  {
   "metadata": {},
   "cell_type": "markdown",
   "source": [
    "### 題目5:陣列變形\n",
    "### 建立一個1到12的一維陣列,並轉換為(3,4)的二維陣列。\n",
    "### - 計算每行的和與每列的平均值。\n",
    "### - 將陣列展平為一維陣列。"
   ],
   "id": "4f2486b978350151"
  },
  {
   "metadata": {
    "ExecuteTime": {
     "end_time": "2025-08-27T09:43:17.475931Z",
     "start_time": "2025-08-27T09:43:17.471471Z"
    }
   },
   "cell_type": "code",
   "source": [
    "arr = np.arange(1, 13)\n",
    "print(arr)\n",
    "\n",
    "print(np.reshape(arr,(3,4)))\n",
    "print(\"每行的和\", np.sum(np.reshape(arr,(3,4)), axis=1))\n",
    "print(\"每列的平均值\", np.mean(np.reshape(arr,(3,4)), axis=0))\n",
    "print(np.reshape(np.reshape(arr,(3,4)),(12)))"
   ],
   "id": "1b215efcaebf5420",
   "outputs": [
    {
     "name": "stdout",
     "output_type": "stream",
     "text": [
      "[ 1  2  3  4  5  6  7  8  9 10 11 12]\n",
      "[[ 1  2  3  4]\n",
      " [ 5  6  7  8]\n",
      " [ 9 10 11 12]]\n",
      "每行的和 [10 26 42]\n",
      "每列的平均值 [5. 6. 7. 8.]\n",
      "[ 1  2  3  4  5  6  7  8  9 10 11 12]\n"
     ]
    }
   ],
   "execution_count": 75
  },
  {
   "metadata": {},
   "cell_type": "markdown",
   "source": [
    "### 題目6:布林索引\n",
    "### 產生一個(5,5)的隨機數組,範圍 [0,20)。\n",
    "### - 找出數組中大於 10 的元素。\n",
    "### - 將所有大於 10 的元素替換為 0。"
   ],
   "id": "2d956d30ee5d31f4"
  },
  {
   "metadata": {
    "ExecuteTime": {
     "end_time": "2025-08-27T10:29:30.970235Z",
     "start_time": "2025-08-27T10:29:30.963787Z"
    }
   },
   "cell_type": "code",
   "source": [
    "np.random.seed(0)\n",
    "arr = np.random.randint(0,20, [5,5])\n",
    "print(arr)\n",
    "print(arr[arr > 10])\n",
    "print(np.where(arr > 10, 0, arr))"
   ],
   "id": "1cce04913b379af1",
   "outputs": [
    {
     "name": "stdout",
     "output_type": "stream",
     "text": [
      "[[12 15  0  3  3]\n",
      " [ 7  9 19 18  4]\n",
      " [ 6 12  1  6  7]\n",
      " [14 17  5 13  8]\n",
      " [ 9 19 16 19  5]]\n",
      "[12 15 19 18 12 14 17 13 19 16 19]\n",
      "[[0 0 0 3 3]\n",
      " [7 9 0 0 4]\n",
      " [6 0 1 6 7]\n",
      " [0 0 5 0 8]\n",
      " [9 0 0 0 5]]\n"
     ]
    }
   ],
   "execution_count": 83
  },
  {
   "metadata": {},
   "cell_type": "markdown",
   "source": [
    "### 題目7:統計函數應用\n",
    "### 某公司6個月的銷售額(萬元)為[120,135,110,125,130,140]。\n",
    "### - 計算銷售額的總和、平均值和變異數。\n",
    "### - 找出銷售額最高的月份和最低的月份。"
   ],
   "id": "52a279c5e9288839"
  },
  {
   "metadata": {
    "ExecuteTime": {
     "end_time": "2025-08-27T10:39:13.729210Z",
     "start_time": "2025-08-27T10:39:13.723214Z"
    }
   },
   "cell_type": "code",
   "source": [
    "money = np.array([120,135,110,125,130,140])\n",
    "print(money)\n",
    "print(\"銷售額總和(萬元)：\", np.sum(money))\n",
    "print(\"銷售額平均值(萬元)：%.3f\"% np.mean(money))\n",
    "print(\"銷售額變異數：%.3f\"% np.var(money))\n",
    "print(\"銷售額標準差：%.3f\"% np.std(money))\n",
    "print(\"銷售額最高的月份：\", np.argmax(money) + 1)\n",
    "print(\"銷售額最低：\", np.argmin(money) + 1)"
   ],
   "id": "aefa17fc0684213d",
   "outputs": [
    {
     "name": "stdout",
     "output_type": "stream",
     "text": [
      "[120 135 110 125 130 140]\n",
      "銷售額總和(萬元)： 760\n",
      "銷售額平均值(萬元)：126.667\n",
      "銷售額標準差：97.222\n",
      "銷售額變異數：9.860\n",
      "銷售額最高的月份： 6\n",
      "銷售額最低： 3\n"
     ]
    }
   ],
   "execution_count": 92
  },
  {
   "metadata": {},
   "cell_type": "markdown",
   "source": [
    "### 題目8:陣列拼接\n",
    "### 給定A=[1,2,3]和B=[4,5,6]。\n",
    "### - 將A和B水平拼接為一個新數組。\n",
    "### - 將A和B垂直拼接為一個新數組。"
   ],
   "id": "d97aee81e0a01ebd"
  },
  {
   "metadata": {
    "ExecuteTime": {
     "end_time": "2025-08-27T10:52:28.585361Z",
     "start_time": "2025-08-27T10:52:28.578272Z"
    }
   },
   "cell_type": "code",
   "source": [
    "A = np.array([1,2,3])\n",
    "B = np.array([4,5,6])\n",
    "print(A)\n",
    "print(B)\n",
    "\n",
    "# 水平拼接\n",
    "C = np.concatenate((A,B))\n",
    "print(C)\n",
    "\n",
    "# 垂直拼接\n",
    "D = np.reshape(A,(3,1))\n",
    "E = np.reshape(B,(3,1))\n",
    "print(np.concatenate((D,E), axis = 1))"
   ],
   "id": "6e3e85bba3ed2ddb",
   "outputs": [
    {
     "name": "stdout",
     "output_type": "stream",
     "text": [
      "[1 2 3]\n",
      "[4 5 6]\n",
      "[1 2 3 4 5 6]\n",
      "[[1 4]\n",
      " [2 5]\n",
      " [3 6]]\n"
     ]
    }
   ],
   "execution_count": 106
  },
  {
   "metadata": {},
   "cell_type": "markdown",
   "source": [
    "### 題目9:唯一值與排序\n",
    "### 給定陣列[2,1,2,3,1,4,3]\n",
    "### - 找出群組中的唯一值並排序。\n",
    "### - 計算每個唯一值出現的次數。"
   ],
   "id": "b707a647adf554f2"
  },
  {
   "metadata": {
    "ExecuteTime": {
     "end_time": "2025-08-27T11:00:06.756395Z",
     "start_time": "2025-08-27T11:00:06.751393Z"
    }
   },
   "cell_type": "code",
   "source": [
    "arr = np.array([2,1,2,3,1,4,3])\n",
    "print(arr)\n",
    "# print(np.unique(arr))\n",
    "\n",
    "# 「多重賦值 (Multiple Assignment)」\n",
    "U_arr, counts = np.unique(arr, return_counts=True)\n",
    "print(U_arr)\n",
    "print(counts)\n",
    "\n",
    "# for 循環\n",
    "d = []\n",
    "for i in range(len(U_arr)):\n",
    "    # print(len(arr[arr == U_arr[i]]))\n",
    "    d = d + [len(arr[arr == U_arr[i]])]\n",
    "print(d)"
   ],
   "id": "38414b6da6386112",
   "outputs": [
    {
     "name": "stdout",
     "output_type": "stream",
     "text": [
      "[2 1 2 3 1 4 3]\n",
      "[1 2 3 4]\n",
      "[2 2 2 1]\n",
      "[2, 2, 2, 1]\n"
     ]
    }
   ],
   "execution_count": 119
  },
  {
   "metadata": {},
   "cell_type": "markdown",
   "source": [
    "### 題目10:綜合應用\n",
    "### 某商店5天的銷售額(萬元)和成本(萬元)如下:\n",
    "### 銷售額:[20, 25, 22, 30, 28]\n",
    "### 成本:[15, 18, 16, 22, 20]\n",
    "### - 計算每天的利潤(銷售額-成本)。\n",
    "### - 計算利潤的平均值和標準差。\n",
    "### - 求出利潤最高的天數。"
   ],
   "id": "cd99583f875d138b"
  },
  {
   "metadata": {
    "ExecuteTime": {
     "end_time": "2025-08-27T11:27:06.607964Z",
     "start_time": "2025-08-27T11:27:06.602014Z"
    }
   },
   "cell_type": "code",
   "source": [
    "money = np.array([20, 25, 22, 30, 28])\n",
    "A = np.array([15, 18, 16, 22, 20])\n",
    "print(\"每天利潤：\", money - A)\n",
    "b = money - A\n",
    "print(\"利潤平均值：\",np.mean(b))\n",
    "print(\"利潤變異數：\",np.var(b))\n",
    "print(\"利潤標準差：\",np.std(b))\n",
    "print(\"利潤最高的天數：\", len(b[b == np.max(b)]))\n",
    "print(f\"利潤最高的是第 {np.where(b == np.max(b))[0]+1} 天\")"
   ],
   "id": "39b4ff810d5be697",
   "outputs": [
    {
     "name": "stdout",
     "output_type": "stream",
     "text": [
      "每天利潤： [5 7 6 8 8]\n",
      "利潤平均值： 6.8\n",
      "利潤變異數： 1.3599999999999999\n",
      "利潤標準差： 1.16619037896906\n",
      "利潤最高的天數： 2\n",
      "利潤最高的是第 [4 5] 天\n"
     ]
    }
   ],
   "execution_count": 137
  },
  {
   "metadata": {},
   "cell_type": "code",
   "outputs": [],
   "execution_count": null,
   "source": "",
   "id": "202f36f4d78aa891"
  }
 ],
 "metadata": {
  "kernelspec": {
   "display_name": "Python 3",
   "language": "python",
   "name": "python3"
  },
  "language_info": {
   "codemirror_mode": {
    "name": "ipython",
    "version": 2
   },
   "file_extension": ".py",
   "mimetype": "text/x-python",
   "name": "python",
   "nbconvert_exporter": "python",
   "pygments_lexer": "ipython2",
   "version": "2.7.6"
  }
 },
 "nbformat": 4,
 "nbformat_minor": 5
}
