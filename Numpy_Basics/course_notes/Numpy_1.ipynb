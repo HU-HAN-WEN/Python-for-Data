{
 "cells": [
  {
   "metadata": {},
   "cell_type": "markdown",
   "source": [
    "# 一、Ndarray\n",
    "## 1. ndarray 的特性\n",
    "### 多維性"
   ],
   "id": "d9bb53d4016174c7"
  },
  {
   "metadata": {
    "ExecuteTime": {
     "end_time": "2025-08-27T02:59:54.011485Z",
     "start_time": "2025-08-27T02:59:53.556872Z"
    }
   },
   "cell_type": "code",
   "source": "import numpy as np",
   "id": "4d18e44f3affea8e",
   "outputs": [],
   "execution_count": 1
  },
  {
   "metadata": {
    "ExecuteTime": {
     "end_time": "2025-08-27T02:59:54.043350Z",
     "start_time": "2025-08-27T02:59:54.039493Z"
    }
   },
   "cell_type": "code",
   "source": [
    "# arr = numpy.array(5) 原本是這樣，但前面有設定numpy as np\n",
    "arr = np.array(5) # 創建0維的ndarray陣列\n",
    "print(arr)\n",
    "print('arr的維度：', arr.ndim) # 陣列的維度 ndim = number of dimensions"
   ],
   "id": "612ce9d671e35a1b",
   "outputs": [
    {
     "name": "stdout",
     "output_type": "stream",
     "text": [
      "5\n",
      "arr的維度： 0\n"
     ]
    }
   ],
   "execution_count": 2
  },
  {
   "metadata": {
    "ExecuteTime": {
     "end_time": "2025-08-27T02:59:54.257903Z",
     "start_time": "2025-08-27T02:59:54.251940Z"
    }
   },
   "cell_type": "code",
   "source": [
    "arr = np.array([1, 2, 3]) # 創建1維的ndarray陣列\n",
    "print(arr)\n",
    "print('arr的維度：', arr.ndim) # 陣列的維度 ndim = number of dimensions"
   ],
   "id": "d2c90aa76beb05ff",
   "outputs": [
    {
     "name": "stdout",
     "output_type": "stream",
     "text": [
      "[1 2 3]\n",
      "arr的維度： 1\n"
     ]
    }
   ],
   "execution_count": 3
  },
  {
   "metadata": {
    "ExecuteTime": {
     "end_time": "2025-08-27T02:59:54.323603Z",
     "start_time": "2025-08-27T02:59:54.319306Z"
    }
   },
   "cell_type": "code",
   "source": [
    "arr = np.array([ [1, 2, 3], [4, 5, 6]]) # 創建2維的ndarray陣列\n",
    "print(arr)\n",
    "print('arr的維度：', arr.ndim) # 陣列的維度 ndim = number of dimensions"
   ],
   "id": "4790cc9da90cb443",
   "outputs": [
    {
     "name": "stdout",
     "output_type": "stream",
     "text": [
      "[[1 2 3]\n",
      " [4 5 6]]\n",
      "arr的維度： 2\n"
     ]
    }
   ],
   "execution_count": 4
  },
  {
   "metadata": {},
   "cell_type": "markdown",
   "source": "### 同質性",
   "id": "fc7b6c26d04f4889"
  },
  {
   "metadata": {
    "ExecuteTime": {
     "end_time": "2025-08-27T02:59:54.444981Z",
     "start_time": "2025-08-27T02:59:54.440612Z"
    }
   },
   "cell_type": "code",
   "source": [
    "arr = np.array([1, \"hello\"]) # 陣列中不同的數據類型，會被強制轉換成相同的數據類型 \n",
    "print(arr)"
   ],
   "id": "8dc70824f0246789",
   "outputs": [
    {
     "name": "stdout",
     "output_type": "stream",
     "text": [
      "['1' 'hello']\n"
     ]
    }
   ],
   "execution_count": 5
  },
  {
   "metadata": {
    "ExecuteTime": {
     "end_time": "2025-08-27T02:59:54.525442Z",
     "start_time": "2025-08-27T02:59:54.520501Z"
    }
   },
   "cell_type": "code",
   "source": [
    "arr = np.array([1, 2.5]) # 陣列中不同的數據類型，會被強制轉換成相同的數據類型 \n",
    "print(arr)"
   ],
   "id": "74bcfd8ed3acf31",
   "outputs": [
    {
     "name": "stdout",
     "output_type": "stream",
     "text": [
      "[1.  2.5]\n"
     ]
    }
   ],
   "execution_count": 6
  },
  {
   "metadata": {},
   "cell_type": "markdown",
   "source": "## 2. ndarray 的屬性",
   "id": "dcfc1be5f89dfd81"
  },
  {
   "metadata": {
    "ExecuteTime": {
     "end_time": "2025-08-27T02:59:54.597821Z",
     "start_time": "2025-08-27T02:59:54.591316Z"
    }
   },
   "cell_type": "code",
   "source": [
    "arr = np.array(1)\n",
    "print(arr)\n",
    "print('陣列的形狀：', arr.shape)\n",
    "print('陣列的維度：', arr.ndim)\n",
    "print('元素的個數：', arr.size)\n",
    "print('元素的數據類型：', arr.dtype)\n",
    "print('元素的轉置：', arr.T)"
   ],
   "id": "3741d106bb8ee6b4",
   "outputs": [
    {
     "name": "stdout",
     "output_type": "stream",
     "text": [
      "1\n",
      "數組的形狀： ()\n",
      "數組的維度： 0\n",
      "元素的個數： 1\n",
      "元素的數據類型： int64\n",
      "元素的轉置： 1\n"
     ]
    }
   ],
   "execution_count": 7
  },
  {
   "metadata": {
    "ExecuteTime": {
     "end_time": "2025-08-27T02:59:54.721600Z",
     "start_time": "2025-08-27T02:59:54.717329Z"
    }
   },
   "cell_type": "code",
   "source": [
    "arr = np.array([1, 2.5, 3])\n",
    "print(arr)\n",
    "print('陣列的形狀：', arr.shape)\n",
    "print('陣列的維度：', arr.ndim)\n",
    "print('元素的個數：', arr.size)\n",
    "print('元素的數據類型：', arr.dtype)\n",
    "print('元素的轉置：', arr.T)"
   ],
   "id": "55c97a71f40c9d20",
   "outputs": [
    {
     "name": "stdout",
     "output_type": "stream",
     "text": [
      "[1.  2.5 3. ]\n",
      "數組的形狀： (3,)\n",
      "數組的維度： 1\n",
      "元素的個數： 3\n",
      "元素的數據類型： float64\n",
      "元素的轉置： [1.  2.5 3. ]\n"
     ]
    }
   ],
   "execution_count": 8
  },
  {
   "metadata": {
    "ExecuteTime": {
     "end_time": "2025-08-27T02:59:54.826865Z",
     "start_time": "2025-08-27T02:59:54.822448Z"
    }
   },
   "cell_type": "code",
   "source": [
    "arr = np.array([[1, 2, 3], [4, 5, 6]])\n",
    "print(arr)\n",
    "print('陣列的形狀：', arr.shape)\n",
    "print('陣列的維度：', arr.ndim)\n",
    "print('元素的個數：', arr.size)\n",
    "print('元素的數據類型：', arr.dtype)\n",
    "print('元素的轉置：', arr.T)"
   ],
   "id": "143ffe9453e6567d",
   "outputs": [
    {
     "name": "stdout",
     "output_type": "stream",
     "text": [
      "[[1 2 3]\n",
      " [4 5 6]]\n",
      "數組的形狀： (2, 3)\n",
      "數組的維度： 2\n",
      "元素的個數： 6\n",
      "元素的數據類型： int64\n",
      "元素的轉置： [[1 4]\n",
      " [2 5]\n",
      " [3 6]]\n"
     ]
    }
   ],
   "execution_count": 9
  },
  {
   "metadata": {},
   "cell_type": "markdown",
   "source": "## 3. ndarray 的創建",
   "id": "7cd0da9b12e3b5"
  },
  {
   "metadata": {
    "ExecuteTime": {
     "end_time": "2025-08-27T02:59:54.902987Z",
     "start_time": "2025-08-27T02:59:54.897987Z"
    }
   },
   "cell_type": "code",
   "source": [
    "# 基礎的創建方法\n",
    "# 後面有()是方法；後面沒有()是屬性\n",
    "list1 = [4, 5, 6]\n",
    "arr = np.array(list1, dtype=np.float64)\n",
    "# arr = np.array([4, 5, 6])\n",
    "print(arr.ndim) # 屬性\n",
    "print(arr)"
   ],
   "id": "632744468c586574",
   "outputs": [
    {
     "name": "stdout",
     "output_type": "stream",
     "text": [
      "1\n",
      "[4. 5. 6.]\n"
     ]
    }
   ],
   "execution_count": 10
  },
  {
   "metadata": {
    "ExecuteTime": {
     "end_time": "2025-08-27T02:59:54.986320Z",
     "start_time": "2025-08-27T02:59:54.981329Z"
    }
   },
   "cell_type": "code",
   "source": [
    "# copy\n",
    "arr1 = np.copy(arr) # 元素與原始的陣列相同，但是不是同一個陣列\n",
    "print(arr1)\n",
    "arr1[0] = 8 #修改arr1第一位數\n",
    "print(arr1)\n",
    "print(arr)"
   ],
   "id": "7fef6f951d0e3ff4",
   "outputs": [
    {
     "name": "stdout",
     "output_type": "stream",
     "text": [
      "[4. 5. 6.]\n",
      "[8. 5. 6.]\n",
      "[4. 5. 6.]\n"
     ]
    }
   ],
   "execution_count": 11
  },
  {
   "metadata": {
    "ExecuteTime": {
     "end_time": "2025-08-27T02:59:55.067384Z",
     "start_time": "2025-08-27T02:59:55.061105Z"
    }
   },
   "cell_type": "code",
   "source": [
    "# 預定義形狀\n",
    "# 全0的陣列 全1的陣列 未初始化的陣列 固定值的陣列\n",
    "# 全0的陣列\n",
    "arr = np.zeros((2, 3))\n",
    "print(arr)\n",
    "print(arr.dtype)\n",
    "\n",
    "arr = np.zeros((2, 3), dtype=int)\n",
    "print(arr)\n",
    "print(arr.dtype)"
   ],
   "id": "75bae591ffd595c",
   "outputs": [
    {
     "name": "stdout",
     "output_type": "stream",
     "text": [
      "[[0. 0. 0.]\n",
      " [0. 0. 0.]]\n",
      "float64\n",
      "[[0 0 0]\n",
      " [0 0 0]]\n",
      "int64\n"
     ]
    }
   ],
   "execution_count": 12
  },
  {
   "metadata": {
    "ExecuteTime": {
     "end_time": "2025-08-27T02:59:55.124733Z",
     "start_time": "2025-08-27T02:59:55.121390Z"
    }
   },
   "cell_type": "code",
   "source": [
    "# 全1的陣列\n",
    "arr = np.ones((5, 8), dtype=int)\n",
    "print(arr)"
   ],
   "id": "ec2b29345d660765",
   "outputs": [
    {
     "name": "stdout",
     "output_type": "stream",
     "text": [
      "[[1 1 1 1 1 1 1 1]\n",
      " [1 1 1 1 1 1 1 1]\n",
      " [1 1 1 1 1 1 1 1]\n",
      " [1 1 1 1 1 1 1 1]\n",
      " [1 1 1 1 1 1 1 1]]\n"
     ]
    }
   ],
   "execution_count": 13
  },
  {
   "metadata": {
    "ExecuteTime": {
     "end_time": "2025-08-27T02:59:55.181112Z",
     "start_time": "2025-08-27T02:59:55.177836Z"
    }
   },
   "cell_type": "code",
   "source": [
    "# 未初始化的陣列\n",
    "arr1 = np.empty((4, 2))\n",
    "print(arr1)"
   ],
   "id": "fd026c1147ad8f7e",
   "outputs": [
    {
     "name": "stdout",
     "output_type": "stream",
     "text": [
      "[[0. 0.]\n",
      " [0. 0.]\n",
      " [0. 0.]\n",
      " [0. 0.]]\n"
     ]
    }
   ],
   "execution_count": 14
  },
  {
   "metadata": {
    "ExecuteTime": {
     "end_time": "2025-08-27T02:59:55.237463Z",
     "start_time": "2025-08-27T02:59:55.233464Z"
    }
   },
   "cell_type": "code",
   "source": [
    "# 固定值的陣列\n",
    "arr = np.full((3, 4), 2025)\n",
    "print(arr)"
   ],
   "id": "1312726122dea2a",
   "outputs": [
    {
     "name": "stdout",
     "output_type": "stream",
     "text": [
      "[[2025 2025 2025 2025]\n",
      " [2025 2025 2025 2025]\n",
      " [2025 2025 2025 2025]]\n"
     ]
    }
   ],
   "execution_count": 15
  },
  {
   "metadata": {
    "ExecuteTime": {
     "end_time": "2025-08-27T02:59:55.289767Z",
     "start_time": "2025-08-27T02:59:55.285465Z"
    }
   },
   "cell_type": "code",
   "source": [
    "# 補充：與其他陣列格式一樣\n",
    "arr1 = np.zeros_like(arr) \n",
    "print(arr1)\n",
    "\n",
    "arr1 = np.ones_like(arr) \n",
    "print(arr1)\n",
    "\n",
    "arr1 = np.empty_like(arr) \n",
    "print(arr1)\n",
    "\n",
    "arr1 = np.full_like(arr, 2026) \n",
    "print(arr1)"
   ],
   "id": "9baf3e488d7a90a3",
   "outputs": [
    {
     "name": "stdout",
     "output_type": "stream",
     "text": [
      "[[0 0 0 0]\n",
      " [0 0 0 0]\n",
      " [0 0 0 0]]\n",
      "[[1 1 1 1]\n",
      " [1 1 1 1]\n",
      " [1 1 1 1]]\n",
      "[[0 0 0 0]\n",
      " [0 0 0 0]\n",
      " [0 0 0 0]]\n",
      "[[2026 2026 2026 2026]\n",
      " [2026 2026 2026 2026]\n",
      " [2026 2026 2026 2026]]\n"
     ]
    }
   ],
   "execution_count": 16
  },
  {
   "metadata": {
    "ExecuteTime": {
     "end_time": "2025-08-27T02:59:55.364442Z",
     "start_time": "2025-08-27T02:59:55.360257Z"
    }
   },
   "cell_type": "code",
   "source": [
    "# 等差數列 ex. 2 4 6 8 10\n",
    "arr = np.arange(1, 10, 1) # start ,end, step(步長)\n",
    "print(arr)"
   ],
   "id": "c7e652330da3d56e",
   "outputs": [
    {
     "name": "stdout",
     "output_type": "stream",
     "text": [
      "[1 2 3 4 5 6 7 8 9]\n"
     ]
    }
   ],
   "execution_count": 17
  },
  {
   "metadata": {
    "ExecuteTime": {
     "end_time": "2025-08-27T02:59:55.442451Z",
     "start_time": "2025-08-27T02:59:55.437452Z"
    }
   },
   "cell_type": "code",
   "source": [
    "# 等間格數列\n",
    "arr = np.linspace(0, 100, 5) # 起始, 終點, 間隔數\n",
    "print(arr)"
   ],
   "id": "ff1cf5a135d52b55",
   "outputs": [
    {
     "name": "stdout",
     "output_type": "stream",
     "text": [
      "[  0.  25.  50.  75. 100.]\n"
     ]
    }
   ],
   "execution_count": 18
  },
  {
   "metadata": {
    "ExecuteTime": {
     "end_time": "2025-08-27T02:59:55.527288Z",
     "start_time": "2025-08-27T02:59:55.522287Z"
    }
   },
   "cell_type": "code",
   "source": [
    "arr = np.linspace(0, 100, 5, dtype=int) # 起始, 終點, 間隔數\n",
    "print(arr)\n",
    "arr = np.arange(0, 101, 25)\n",
    "print(arr)"
   ],
   "id": "1d0d658f199f1898",
   "outputs": [
    {
     "name": "stdout",
     "output_type": "stream",
     "text": [
      "[  0  25  50  75 100]\n",
      "[  0  25  50  75 100]\n"
     ]
    }
   ],
   "execution_count": 19
  },
  {
   "metadata": {
    "ExecuteTime": {
     "end_time": "2025-08-27T02:59:55.590634Z",
     "start_time": "2025-08-27T02:59:55.587172Z"
    }
   },
   "cell_type": "code",
   "source": [
    "# 對數間隔數列\n",
    "arr = np.logspace(0, 4, 3, base=2) # 起始, 終點, 間隔數, 以X為底數(2^0, 2^2, 2^4)\n",
    "print(arr)"
   ],
   "id": "f111b9f36f07bf77",
   "outputs": [
    {
     "name": "stdout",
     "output_type": "stream",
     "text": [
      "[ 1.  4. 16.]\n"
     ]
    }
   ],
   "execution_count": 20
  },
  {
   "metadata": {
    "ExecuteTime": {
     "end_time": "2025-08-27T02:59:55.653906Z",
     "start_time": "2025-08-27T02:59:55.648599Z"
    }
   },
   "cell_type": "code",
   "source": [
    "# 特殊矩陣\n",
    "# 單位矩陣：主對角線上的數字為1，其他數字為0\n",
    "arr = np.eye(3, dtype=int)\n",
    "print(arr)\n",
    "\n",
    "arr = np.eye(3, 4, dtype=int)\n",
    "print(arr)"
   ],
   "id": "508b15bec2c6855e",
   "outputs": [
    {
     "name": "stdout",
     "output_type": "stream",
     "text": [
      "[[1 0 0]\n",
      " [0 1 0]\n",
      " [0 0 1]]\n",
      "[[1 0 0 0]\n",
      " [0 1 0 0]\n",
      " [0 0 1 0]]\n"
     ]
    }
   ],
   "execution_count": 21
  },
  {
   "metadata": {
    "ExecuteTime": {
     "end_time": "2025-08-27T02:59:55.720568Z",
     "start_time": "2025-08-27T02:59:55.716423Z"
    }
   },
   "cell_type": "code",
   "source": [
    "# 對角矩陣：主對角線上非零的數字，其他數字為0\n",
    "arr = np.diag([1, 2, 3])\n",
    "print(arr)"
   ],
   "id": "7ab20f974381cf55",
   "outputs": [
    {
     "name": "stdout",
     "output_type": "stream",
     "text": [
      "[[1 0 0]\n",
      " [0 2 0]\n",
      " [0 0 3]]\n"
     ]
    }
   ],
   "execution_count": 22
  },
  {
   "metadata": {
    "ExecuteTime": {
     "end_time": "2025-08-27T02:59:55.939824Z",
     "start_time": "2025-08-27T02:59:55.775875Z"
    }
   },
   "cell_type": "code",
   "source": [
    "# 隨機陣列的生成\n",
    "# 生成0到1之間的隨機浮點數(均勻分布)\n",
    "arr = np.random.randn(3, 4)\n",
    "print(arr)"
   ],
   "id": "f59722d717c6322d",
   "outputs": [
    {
     "name": "stdout",
     "output_type": "stream",
     "text": [
      "[[-0.79820187 -0.85556695  0.27680683  0.48426167]\n",
      " [-0.22761831 -0.68494137 -0.85890126  0.38812429]\n",
      " [ 0.33617204  0.14263701  1.39095039  0.01578666]]\n"
     ]
    }
   ],
   "execution_count": 23
  },
  {
   "metadata": {
    "ExecuteTime": {
     "end_time": "2025-08-27T02:59:55.974010Z",
     "start_time": "2025-08-27T02:59:55.970508Z"
    }
   },
   "cell_type": "code",
   "source": [
    "# 生成指定範圍區間的隨機浮點數\n",
    "arr = np.random.uniform(3, 6, (2, 3))\n",
    "print(arr)"
   ],
   "id": "810f5bc4743a73ff",
   "outputs": [
    {
     "name": "stdout",
     "output_type": "stream",
     "text": [
      "[[3.32046409 5.61575687 4.01275689]\n",
      " [5.98802164 5.84115144 5.92554945]]\n"
     ]
    }
   ],
   "execution_count": 24
  },
  {
   "metadata": {
    "ExecuteTime": {
     "end_time": "2025-08-27T02:59:56.025403Z",
     "start_time": "2025-08-27T02:59:56.022331Z"
    }
   },
   "cell_type": "code",
   "source": [
    "# 生成指定範圍區間的隨機整數\n",
    "arr = np.random.randint(3, 30, (2, 3))\n",
    "print(arr)"
   ],
   "id": "68f9eb1419b2a863",
   "outputs": [
    {
     "name": "stdout",
     "output_type": "stream",
     "text": [
      "[[ 6 21 23]\n",
      " [11 27 25]]\n"
     ]
    }
   ],
   "execution_count": 25
  },
  {
   "metadata": {
    "ExecuteTime": {
     "end_time": "2025-08-27T02:59:56.087754Z",
     "start_time": "2025-08-27T02:59:56.083756Z"
    }
   },
   "cell_type": "code",
   "source": [
    "# 生成隨機數列（正態分布）\n",
    "# randn 標準正態分布，平均值為 0，標準差為 1\n",
    "# 兩側小，中間大\n",
    "arr = np.random.randn(2, 3)\n",
    "print(arr)"
   ],
   "id": "ca226125b3b63d96",
   "outputs": [
    {
     "name": "stdout",
     "output_type": "stream",
     "text": [
      "[[-0.72915476 -0.44881471  0.27180511]\n",
      " [ 0.89046368 -1.67067658 -0.90033786]]\n"
     ]
    }
   ],
   "execution_count": 26
  },
  {
   "metadata": {
    "ExecuteTime": {
     "end_time": "2025-08-27T02:59:56.145114Z",
     "start_time": "2025-08-27T02:59:56.141569Z"
    }
   },
   "cell_type": "code",
   "source": [
    "# 設置隨機種子\n",
    "# np.random.seed()的作用，不是讓數字「更隨機」，是為了讓「隨機」結果變得可以被控制和重現\n",
    "np.random.seed(20)\n",
    "arr = np.random.randint(1, 10, (2, 5))\n",
    "print(arr)"
   ],
   "id": "e6913a20ff91a8e",
   "outputs": [
    {
     "name": "stdout",
     "output_type": "stream",
     "text": [
      "[[4 5 7 8 3]\n",
      " [1 7 9 6 4]]\n"
     ]
    }
   ],
   "execution_count": 27
  },
  {
   "metadata": {},
   "cell_type": "markdown",
   "source": [
    "## 4. ndarray 的數據類型\n",
    "### 布林類型 bool\n",
    "### 整數類型 int, uint\n",
    "### 浮點數類型 float\n",
    "### 複數類型 complex"
   ],
   "id": "d1b3b98211f17402"
  },
  {
   "metadata": {
    "ExecuteTime": {
     "end_time": "2025-08-27T02:59:56.210916Z",
     "start_time": "2025-08-27T02:59:56.207778Z"
    }
   },
   "cell_type": "code",
   "source": [
    "arr = np.array([1, 0, 2, 0], dtype='bool')\n",
    "print(arr)\n",
    "\n",
    "arr = np.array([1, 0, 2, 0], dtype=np.bool)\n",
    "print(arr)"
   ],
   "id": "b0062e23e2624d66",
   "outputs": [
    {
     "name": "stdout",
     "output_type": "stream",
     "text": [
      "[ True False  True False]\n",
      "[ True False  True False]\n"
     ]
    }
   ],
   "execution_count": 28
  },
  {
   "metadata": {
    "ExecuteTime": {
     "end_time": "2025-08-27T02:59:56.277712Z",
     "start_time": "2025-08-27T02:59:56.273748Z"
    }
   },
   "cell_type": "code",
   "source": [
    "arr = np.array([1, 0, 2, 0], dtype=np.int8)\n",
    "print(arr)\n",
    "\n",
    "arr = np.array([1, 0, 2, 0], dtype=int)\n",
    "print(arr)\n",
    "\n",
    "# Error：超過範圍\n",
    "# arr = np.array([1, 0, 2000, 0], dtype=np.int8)\n",
    "# print(arr)"
   ],
   "id": "b87dd040f50708d1",
   "outputs": [
    {
     "name": "stdout",
     "output_type": "stream",
     "text": [
      "[1 0 2 0]\n",
      "[1 0 2 0]\n"
     ]
    }
   ],
   "execution_count": 29
  },
  {
   "metadata": {},
   "cell_type": "markdown",
   "source": "## 5. 索引與切片",
   "id": "e0cf967e3979ddfe"
  },
  {
   "metadata": {
    "ExecuteTime": {
     "end_time": "2025-08-27T02:59:56.356818Z",
     "start_time": "2025-08-27T02:59:56.353108Z"
    }
   },
   "cell_type": "code",
   "source": [
    "# 一維陣列的索引與切片\n",
    "arr = np.random.randint(1, 100, 20)\n",
    "print(arr)"
   ],
   "id": "f88a54448a99c5a3",
   "outputs": [
    {
     "name": "stdout",
     "output_type": "stream",
     "text": [
      "[17 63 17  8 99  7 27 14 76 59 26  4 75 76 62 78 84 58 95 33]\n"
     ]
    }
   ],
   "execution_count": 30
  },
  {
   "metadata": {
    "ExecuteTime": {
     "end_time": "2025-08-27T02:59:56.426930Z",
     "start_time": "2025-08-27T02:59:56.422828Z"
    }
   },
   "cell_type": "code",
   "source": [
    "print(arr[10]) #基礎索引\n",
    "\n",
    "print(arr[:]) # 獲取全部的數據\n",
    "\n",
    "print(arr[2:5]) # start:end+1 左包右不包\n",
    "\n",
    "print(arr[slice(2, 15, 3)]) # # start, end+1, step\n",
    "\n",
    "print(arr[(arr > 10) & (arr < 70)]) # 布林索引"
   ],
   "id": "fa99bb84520c91c2",
   "outputs": [
    {
     "name": "stdout",
     "output_type": "stream",
     "text": [
      "26\n",
      "[17 63 17  8 99  7 27 14 76 59 26  4 75 76 62 78 84 58 95 33]\n",
      "[17  8 99]\n",
      "[17  7 76  4 62]\n",
      "[17 63 17 27 14 59 26 62 58 33]\n"
     ]
    }
   ],
   "execution_count": 31
  },
  {
   "metadata": {
    "ExecuteTime": {
     "end_time": "2025-08-27T02:59:56.498281Z",
     "start_time": "2025-08-27T02:59:56.492651Z"
    }
   },
   "cell_type": "code",
   "source": [
    "# 二維陣列的索引與切片\n",
    "arr = np.random.randint(1, 100, (4, 8))\n",
    "print(arr)"
   ],
   "id": "485789cfad6488d1",
   "outputs": [
    {
     "name": "stdout",
     "output_type": "stream",
     "text": [
      "[[11  7 76 19  4 78 18 44]\n",
      " [17 19 80 91 60 72 76 30]\n",
      " [46  7 64 79 25 19 94 34]\n",
      " [79 43 95  4 19 71 53 23]]\n"
     ]
    }
   ],
   "execution_count": 32
  },
  {
   "metadata": {
    "ExecuteTime": {
     "end_time": "2025-08-27T02:59:56.546916Z",
     "start_time": "2025-08-27T02:59:56.542076Z"
    }
   },
   "cell_type": "code",
   "source": [
    "print(arr[1, 3]) # 直接訪問/元組式訪問 --> 單一、高效的動作\n",
    "print(arr[1][3]) # 鏈式訪問/項目式訪問 --> 兩步驟的過程\n",
    "\n",
    "print(arr[:, :]) # 獲取全部的數據\n",
    "print(arr[1, 2:5])\n",
    "\n",
    "print(arr[arr > 50]) # 布林索引 --> 會返回一維陣列\n",
    "print(arr[2][arr[2] > 50])\n",
    "print(arr[2]>50) # 補充：「先索引第 2 行，再對該行所有元素做 > 50 的判斷，最終返回一個布林陣列」\n",
    "\n",
    "print(arr[:, 3]) #針對列數據\n"
   ],
   "id": "395b6c560084023a",
   "outputs": [
    {
     "name": "stdout",
     "output_type": "stream",
     "text": [
      "91\n",
      "91\n",
      "[[11  7 76 19  4 78 18 44]\n",
      " [17 19 80 91 60 72 76 30]\n",
      " [46  7 64 79 25 19 94 34]\n",
      " [79 43 95  4 19 71 53 23]]\n",
      "[80 91 60]\n",
      "[76 78 80 91 60 72 76 64 79 94 79 95 71 53]\n",
      "[64 79 94]\n",
      "[False False  True  True False False  True False]\n",
      "[19 91 79  4]\n"
     ]
    }
   ],
   "execution_count": 33
  },
  {
   "metadata": {},
   "cell_type": "markdown",
   "source": "## 5. ndarray 的運算",
   "id": "a2bf00cde6551550"
  },
  {
   "metadata": {
    "ExecuteTime": {
     "end_time": "2025-08-27T02:59:56.595185Z",
     "start_time": "2025-08-27T02:59:56.590926Z"
    }
   },
   "cell_type": "code",
   "source": [
    "# 一維np算術運算\n",
    "a = np.array([1, 2, 3])\n",
    "b = np.array([4, 5, 6])\n",
    "print(a + b)\n",
    "print(a - b)\n",
    "print(a * b)\n",
    "print(a / b)\n",
    "print(a ** 2)"
   ],
   "id": "e317479b539d77db",
   "outputs": [
    {
     "name": "stdout",
     "output_type": "stream",
     "text": [
      "[5 7 9]\n",
      "[-3 -3 -3]\n",
      "[ 4 10 18]\n",
      "[0.25 0.4  0.5 ]\n",
      "[1 4 9]\n"
     ]
    }
   ],
   "execution_count": 34
  },
  {
   "metadata": {
    "ExecuteTime": {
     "end_time": "2025-08-27T02:59:56.649435Z",
     "start_time": "2025-08-27T02:59:56.643511Z"
    }
   },
   "cell_type": "code",
   "source": [
    "# 原始運算\n",
    "c = [1, 2, 3]\n",
    "d = [4, 5, 6]\n",
    "for i in range(len(c)):\n",
    "    d[i] = c[i] + d[i]\n",
    "    print(d[i])"
   ],
   "id": "823a8a5fb41acc89",
   "outputs": [
    {
     "name": "stdout",
     "output_type": "stream",
     "text": [
      "5\n",
      "7\n",
      "9\n"
     ]
    }
   ],
   "execution_count": 35
  },
  {
   "metadata": {
    "ExecuteTime": {
     "end_time": "2025-08-27T02:59:56.689495Z",
     "start_time": "2025-08-27T02:59:56.685452Z"
    }
   },
   "cell_type": "code",
   "source": [
    "# 二維np算術運算\n",
    "a = np.array([[1, 2, 3], [4, 5, 6], [7, 8, 9]])\n",
    "b = np.array([[4, 5, 6], [7, 8, 9], [1, 2, 3]])\n",
    "print(a + b)\n",
    "print(a - b)\n",
    "print(a * b)\n",
    "print(a / b)\n",
    "print(a ** 2)"
   ],
   "id": "1209df11f2b55c62",
   "outputs": [
    {
     "name": "stdout",
     "output_type": "stream",
     "text": [
      "[[ 5  7  9]\n",
      " [11 13 15]\n",
      " [ 8 10 12]]\n",
      "[[-3 -3 -3]\n",
      " [-3 -3 -3]\n",
      " [ 6  6  6]]\n",
      "[[ 4 10 18]\n",
      " [28 40 54]\n",
      " [ 7 16 27]]\n",
      "[[0.25       0.4        0.5       ]\n",
      " [0.57142857 0.625      0.66666667]\n",
      " [7.         4.         3.        ]]\n",
      "[[ 1  4  9]\n",
      " [16 25 36]\n",
      " [49 64 81]]\n"
     ]
    }
   ],
   "execution_count": 36
  },
  {
   "metadata": {
    "ExecuteTime": {
     "end_time": "2025-08-27T02:59:56.733565Z",
     "start_time": "2025-08-27T02:59:56.729117Z"
    }
   },
   "cell_type": "code",
   "source": [
    "# 陣列與標量之間的算術運算\n",
    "a = np.array([[1, 2, 3], [4, 5, 6], [7, 8, 9]])\n",
    "print(a + 3)\n",
    "print(a * 3)"
   ],
   "id": "45c82c657e66521f",
   "outputs": [
    {
     "name": "stdout",
     "output_type": "stream",
     "text": [
      "[[ 4  5  6]\n",
      " [ 7  8  9]\n",
      " [10 11 12]]\n",
      "[[ 3  6  9]\n",
      " [12 15 18]\n",
      " [21 24 27]]\n"
     ]
    }
   ],
   "execution_count": 37
  },
  {
   "metadata": {
    "ExecuteTime": {
     "end_time": "2025-08-27T02:59:56.790076Z",
     "start_time": "2025-08-27T02:59:56.782501Z"
    }
   },
   "cell_type": "code",
   "source": [
    "# 廣播機制：1.獲取形狀 2.是否可以廣播 3.進行廣播\n",
    "# 條件: 所有對應維度的大小必須相等，或是其中一個為 1。\n",
    "a = np.array([1, 2, 3]) #1*3\n",
    "b = np.array([[4], [5], [6]]) # 3*1\n",
    "print(a + b)\n",
    "print(b - a)\n",
    "'''\n",
    "擴展\n",
    "a\n",
    "    1 2 3\n",
    "    1 2 3\n",
    "    1 2 3\n",
    "b\n",
    "    4 4 4\n",
    "    5 5 5\n",
    "    6 6 6\n",
    "'''"
   ],
   "id": "6e385361d3b1c39c",
   "outputs": [
    {
     "name": "stdout",
     "output_type": "stream",
     "text": [
      "[[5 6 7]\n",
      " [6 7 8]\n",
      " [7 8 9]]\n",
      "[[3 2 1]\n",
      " [4 3 2]\n",
      " [5 4 3]]\n"
     ]
    },
    {
     "data": {
      "text/plain": [
       "'\\n擴展\\na\\n    1 2 3\\n    1 2 3\\n    1 2 3\\nb\\n    4 4 4\\n    5 5 5\\n    6 6 6\\n'"
      ]
     },
     "execution_count": 38,
     "metadata": {},
     "output_type": "execute_result"
    }
   ],
   "execution_count": 38
  },
  {
   "metadata": {
    "ExecuteTime": {
     "end_time": "2025-08-27T02:59:56.843765Z",
     "start_time": "2025-08-27T02:59:56.840467Z"
    }
   },
   "cell_type": "code",
   "source": [
    "# 錯誤範例：不同維度\n",
    "# a = np.array([1, 2, 3]) #1*3\n",
    "# b = np.array([4, 5]) # 1*2\n",
    "# print(a + b)\n",
    "# ValueError: operands could not be broadcast together with shapes (3,) (2,)"
   ],
   "id": "4842bc51580350aa",
   "outputs": [],
   "execution_count": 39
  },
  {
   "metadata": {
    "ExecuteTime": {
     "end_time": "2025-08-27T02:59:56.869989Z",
     "start_time": "2025-08-27T02:59:56.864372Z"
    }
   },
   "cell_type": "code",
   "source": [
    "# 矩陣運算\n",
    "a = np.array([[1, 2, 3], [4, 5, 6], [7, 8, 9]])\n",
    "b = np.array([[4, 5, 6], [7, 8, 9], [1, 2, 3]])\n",
    "\n",
    "# 「元素對應相乘」(Element-wise Multiplication)\n",
    "print(a * b)\n",
    "\n",
    "# 「矩陣乘法」(Matrix Multiplication)\n",
    "# 求[n,m]的值，等於矩陣1的第n行的值依序乘以矩陣2的第m列的值，然後把相乘的結果求和，\n",
    "print(a @ b)"
   ],
   "id": "744db33f023be762",
   "outputs": [
    {
     "name": "stdout",
     "output_type": "stream",
     "text": [
      "[[ 4 10 18]\n",
      " [28 40 54]\n",
      " [ 7 16 27]]\n",
      "[[ 21  27  33]\n",
      " [ 57  72  87]\n",
      " [ 93 117 141]]\n"
     ]
    }
   ],
   "execution_count": 40
  }
 ],
 "metadata": {
  "kernelspec": {
   "display_name": "Python 3",
   "language": "python",
   "name": "python3"
  },
  "language_info": {
   "codemirror_mode": {
    "name": "ipython",
    "version": 2
   },
   "file_extension": ".py",
   "mimetype": "text/x-python",
   "name": "python",
   "nbconvert_exporter": "python",
   "pygments_lexer": "ipython2",
   "version": "2.7.6"
  }
 },
 "nbformat": 4,
 "nbformat_minor": 5
}
