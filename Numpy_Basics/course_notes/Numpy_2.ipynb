{
 "cells": [
  {
   "metadata": {},
   "cell_type": "markdown",
   "source": [
    "# 二、Numpy\n",
    "## 1. Numpy 基本數學函數"
   ],
   "id": "21da112e28d48c10"
  },
  {
   "metadata": {
    "ExecuteTime": {
     "end_time": "2025-08-27T03:06:40.958288Z",
     "start_time": "2025-08-27T03:06:40.864473Z"
    }
   },
   "cell_type": "code",
   "source": [
    "import numpy as np\n",
    "from numpy.ma.core import cumsum, concatenate"
   ],
   "id": "37b991627de4a0b2",
   "outputs": [],
   "execution_count": 1
  },
  {
   "metadata": {
    "ExecuteTime": {
     "end_time": "2025-08-27T03:09:29.776043Z",
     "start_time": "2025-08-27T03:09:29.771039Z"
    }
   },
   "cell_type": "code",
   "source": [
    "# 計算平方根（返回結果是浮點數）\n",
    "print(np.sqrt(9))\n",
    "print(np.sqrt([1, 4, 9]))\n",
    "\n",
    "arr = np.array([1, 25, 81])\n",
    "print(np.sqrt(arr))"
   ],
   "id": "32412fcc9338241e",
   "outputs": [
    {
     "name": "stdout",
     "output_type": "stream",
     "text": [
      "3.0\n",
      "[1. 2. 3.]\n",
      "[1. 5. 9.]\n"
     ]
    }
   ],
   "execution_count": 4
  },
  {
   "metadata": {
    "ExecuteTime": {
     "end_time": "2025-08-27T03:12:13.796477Z",
     "start_time": "2025-08-27T03:12:13.792034Z"
    }
   },
   "cell_type": "code",
   "source": [
    "# 計算指數 e^x = y\n",
    "print(np.exp(1)) # 自然數e"
   ],
   "id": "8fc035a1dee82c00",
   "outputs": [
    {
     "name": "stdout",
     "output_type": "stream",
     "text": [
      "2.718281828459045\n"
     ]
    }
   ],
   "execution_count": 7
  },
  {
   "metadata": {
    "ExecuteTime": {
     "end_time": "2025-08-27T03:13:39.827376Z",
     "start_time": "2025-08-27T03:13:39.822467Z"
    }
   },
   "cell_type": "code",
   "source": [
    "# 計算自然對數 ln y = x\n",
    "print(np.log(2.71))"
   ],
   "id": "88dae44ff413f798",
   "outputs": [
    {
     "name": "stdout",
     "output_type": "stream",
     "text": [
      "0.9969486348916096\n"
     ]
    }
   ],
   "execution_count": 8
  },
  {
   "metadata": {
    "ExecuteTime": {
     "end_time": "2025-08-27T03:16:23.715795Z",
     "start_time": "2025-08-27T03:16:23.710332Z"
    }
   },
   "cell_type": "code",
   "source": [
    "# 計算三角函數中的正弦值、餘弦值\n",
    "print(np.sin(-1))\n",
    "print(np.cos(np.pi))"
   ],
   "id": "725ce128d02ed73a",
   "outputs": [
    {
     "name": "stdout",
     "output_type": "stream",
     "text": [
      "-0.8414709848078965\n",
      "-1.0\n"
     ]
    }
   ],
   "execution_count": 9
  },
  {
   "metadata": {
    "ExecuteTime": {
     "end_time": "2025-08-27T03:18:04.454363Z",
     "start_time": "2025-08-27T03:18:04.450772Z"
    }
   },
   "cell_type": "code",
   "source": [
    "# 計算絕對值\n",
    "arr = np.array([1, 2, -3, -9])\n",
    "print(np.abs(arr))"
   ],
   "id": "8b8be4b3dcbd584d",
   "outputs": [
    {
     "name": "stdout",
     "output_type": "stream",
     "text": [
      "[1 2 3 9]\n"
     ]
    }
   ],
   "execution_count": 10
  },
  {
   "metadata": {
    "ExecuteTime": {
     "end_time": "2025-08-27T03:19:30.485617Z",
     "start_time": "2025-08-27T03:19:30.481097Z"
    }
   },
   "cell_type": "code",
   "source": [
    "# 計算a的b次方\n",
    "print(np.power(arr, 3))"
   ],
   "id": "d6e8ef122bece935",
   "outputs": [
    {
     "name": "stdout",
     "output_type": "stream",
     "text": [
      "[   1    8  -27 -729]\n"
     ]
    }
   ],
   "execution_count": 12
  },
  {
   "metadata": {
    "ExecuteTime": {
     "end_time": "2025-08-27T03:24:05.799801Z",
     "start_time": "2025-08-27T03:24:05.795570Z"
    }
   },
   "cell_type": "code",
   "source": [
    "# 四捨五入\n",
    "print(np.round([4.213, 5.3, 2.78, 7.53, 5.5, 4.5]))\n",
    "# 注意：「向偶數捨入」(Round half to even)，也稱為「銀行家捨入法」(Banker's Rounding)\n",
    "# 即「向最近的偶數靠攏」 --> 4.5 靠近 4, 5.5 靠近 6"
   ],
   "id": "2028fb689ef1b7d2",
   "outputs": [
    {
     "name": "stdout",
     "output_type": "stream",
     "text": [
      "[4. 5. 3. 8. 6. 4.]\n"
     ]
    }
   ],
   "execution_count": 18
  },
  {
   "metadata": {
    "ExecuteTime": {
     "end_time": "2025-08-27T03:27:24.425698Z",
     "start_time": "2025-08-27T03:27:24.421178Z"
    }
   },
   "cell_type": "code",
   "source": [
    "# 向上取整，向下取整\n",
    "arr = np.array([4.213, 5.3, 2.78, 7.53, 5.5, 4.5])\n",
    "print(np.ceil(arr))\n",
    "print(np.floor(arr))"
   ],
   "id": "4f321df429cede34",
   "outputs": [
    {
     "name": "stdout",
     "output_type": "stream",
     "text": [
      "[5. 6. 3. 8. 6. 5.]\n",
      "[4. 5. 2. 7. 5. 4.]\n"
     ]
    }
   ],
   "execution_count": 19
  },
  {
   "metadata": {
    "ExecuteTime": {
     "end_time": "2025-08-27T03:29:06.183201Z",
     "start_time": "2025-08-27T03:29:06.174896Z"
    }
   },
   "cell_type": "code",
   "source": [
    "# 檢測缺失值NaN\n",
    "np.isnan([1, 2, np.nan, 3])"
   ],
   "id": "fdca0a0ec8926d91",
   "outputs": [
    {
     "data": {
      "text/plain": [
       "array([False, False,  True, False])"
      ]
     },
     "execution_count": 21,
     "metadata": {},
     "output_type": "execute_result"
    }
   ],
   "execution_count": 21
  },
  {
   "metadata": {},
   "cell_type": "markdown",
   "source": [
    "## 2. 統計函數\n",
    "### 求和、平均值、中位數、標準差、變異數\n",
    "### 最大值、最小值\n",
    "### 分位數、累積和、累積差"
   ],
   "id": "c7a92013e8c81b24"
  },
  {
   "metadata": {
    "ExecuteTime": {
     "end_time": "2025-08-27T03:32:11.010232Z",
     "start_time": "2025-08-27T03:32:11.006219Z"
    }
   },
   "cell_type": "code",
   "source": [
    "arr = np.random.randint(1, 20, 8)\n",
    "print(arr)"
   ],
   "id": "c61bfeb682c6f833",
   "outputs": [
    {
     "name": "stdout",
     "output_type": "stream",
     "text": [
      "[17 10  3  7 14 11  1 16]\n"
     ]
    }
   ],
   "execution_count": 24
  },
  {
   "metadata": {
    "ExecuteTime": {
     "end_time": "2025-08-27T03:34:08.141930Z",
     "start_time": "2025-08-27T03:34:08.138401Z"
    }
   },
   "cell_type": "code",
   "source": [
    "# 求和\n",
    "print(np.sum(arr))\n",
    "print(np.sum([1, 2, 3]))"
   ],
   "id": "a32e3cc3ad3ae97c",
   "outputs": [
    {
     "name": "stdout",
     "output_type": "stream",
     "text": [
      "79\n",
      "6\n"
     ]
    }
   ],
   "execution_count": 31
  },
  {
   "metadata": {
    "ExecuteTime": {
     "end_time": "2025-08-27T03:34:10.341171Z",
     "start_time": "2025-08-27T03:34:10.337479Z"
    }
   },
   "cell_type": "code",
   "source": [
    "# 計算平均值\n",
    "print(np.mean([1, 2, 3]))"
   ],
   "id": "dc6373cef7f00db0",
   "outputs": [
    {
     "name": "stdout",
     "output_type": "stream",
     "text": [
      "2.0\n"
     ]
    }
   ],
   "execution_count": 32
  },
  {
   "metadata": {
    "ExecuteTime": {
     "end_time": "2025-08-27T03:37:59.775639Z",
     "start_time": "2025-08-27T03:37:59.771307Z"
    }
   },
   "cell_type": "code",
   "source": [
    "# 計算中位數\n",
    "# 奇數：中位數是正中間那一位數\n",
    "# 偶數：中位數是中間兩位數的「平均值」\n",
    "print(np.median([1, 2, 4])) \n",
    "print(np.median([1, 2, 4, 8])) "
   ],
   "id": "dbe1c8dbd9b84c26",
   "outputs": [
    {
     "name": "stdout",
     "output_type": "stream",
     "text": [
      "2.0\n",
      "3.0\n"
     ]
    }
   ],
   "execution_count": 36
  },
  {
   "metadata": {
    "ExecuteTime": {
     "end_time": "2025-08-27T11:14:06.135872Z",
     "start_time": "2025-08-27T11:14:06.131546Z"
    }
   },
   "cell_type": "code",
   "source": [
    "# 計算標準差＆變異數\n",
    "# [1, 2, 3]平均值為2\n",
    "# 標準差 = ((1-2)^2 + (2-2)^2 + (3-2)^2)/ 3 = 0.66666\n",
    "# 變異數 = 標準差^1/2\n",
    "print('標準差：', np.var([1, 2, 3]))\n",
    "print('變異數：', np.std([1, 2, 3]))"
   ],
   "id": "c0097a44231a143f",
   "outputs": [
    {
     "name": "stdout",
     "output_type": "stream",
     "text": [
      "標準差： 0.6666666666666666\n",
      "變異數： 0.816496580927726\n"
     ]
    }
   ],
   "execution_count": 112
  },
  {
   "metadata": {
    "ExecuteTime": {
     "end_time": "2025-08-27T06:11:34.529338Z",
     "start_time": "2025-08-27T06:11:34.524386Z"
    }
   },
   "cell_type": "code",
   "source": [
    "# 計算最大值＆最小值以及位置\n",
    "print(arr)\n",
    "print(np.max(arr), np.argmax(arr))\n",
    "print(np.min(arr), np.argmin(arr))"
   ],
   "id": "74a853439463506",
   "outputs": [
    {
     "name": "stdout",
     "output_type": "stream",
     "text": [
      "[17 10  3  7 14 11  1 16]\n",
      "17 0\n",
      "1 6\n"
     ]
    }
   ],
   "execution_count": 41
  },
  {
   "metadata": {
    "ExecuteTime": {
     "end_time": "2025-08-27T06:37:05.854783Z",
     "start_time": "2025-08-27T06:37:05.847266Z"
    }
   },
   "cell_type": "code",
   "source": [
    "# 分位數\n",
    "np.random.seed(0)\n",
    "arr = np.random.randint(0, 100, 8)\n",
    "arr.sort() # 由小到大進行排序\n",
    "print(arr)\n",
    "\n",
    "print(np.median(arr))\n",
    "print(np.percentile(arr, 50))\n",
    "print(np.percentile(arr, 25))\n",
    "# 樣本分位數\n",
    "# 定位方式：(n - 1) * 百分比  = (8 - 1) * 0.25 = 7 * 0.25 = 1.75\n",
    "# 1.75拆成整數索引 = 1(21) ＆ 小數權重 = 0.75\n",
    "# 結果 = 下界值+小數權重×(上界值−下界值)\n",
    "print(np.percentile(arr, 80))"
   ],
   "id": "8623a9959dccfb36",
   "outputs": [
    {
     "name": "stdout",
     "output_type": "stream",
     "text": [
      "[ 9 21 44 47 64 67 67 83]\n",
      "55.5\n",
      "55.5\n",
      "38.25\n",
      "67.0\n"
     ]
    }
   ],
   "execution_count": 53
  },
  {
   "metadata": {
    "ExecuteTime": {
     "end_time": "2025-08-27T06:41:20.213536Z",
     "start_time": "2025-08-27T06:41:20.206214Z"
    }
   },
   "cell_type": "code",
   "source": [
    "# 累積和＆累積積\n",
    "arr = np.array([1, 2, 3])\n",
    "print(np.sum(arr))\n",
    "print(np.cumsum(arr))\n",
    "print(np.cumprod(arr))"
   ],
   "id": "5958993a2803a013",
   "outputs": [
    {
     "name": "stdout",
     "output_type": "stream",
     "text": [
      "6\n",
      "[1 3 6]\n",
      "[1 2 6]\n"
     ]
    }
   ],
   "execution_count": 56
  },
  {
   "metadata": {},
   "cell_type": "markdown",
   "source": [
    "## 3. 比較函數\n",
    "### 比較是否大於、小於或是等於\n",
    "### 邏輯「與」、「或」、「非」\n",
    "### 檢查陣列中是否有一個True、是否所有都為True、自定義條件"
   ],
   "id": "dbfcca355d8a1643"
  },
  {
   "metadata": {
    "ExecuteTime": {
     "end_time": "2025-08-27T08:00:35.362405Z",
     "start_time": "2025-08-27T08:00:35.357863Z"
    }
   },
   "cell_type": "code",
   "source": [
    "# 是否大於\n",
    "print(np.greater([3, 4, 5, 6, 7, 8],4))\n",
    "# 是否小於\n",
    "print(np.less([3, 4, 5, 6, 7, 8],4))\n",
    "# 是否等於\n",
    "print(np.equal([3, 4, 5, 6, 7, 8],4))\n",
    "print(np.equal([3, 4, 5], [4, 4, 4]))\n",
    "\n",
    "# 大於等於： np.greater_equal()\n",
    "print(np.greater_equal([3, 4, 5, 6, 7, 8],4))\n",
    "# 小於等於： np.less_equal()\n",
    "print(np.less_equal([3, 4, 5, 6, 7, 8],4))"
   ],
   "id": "c11f38f445b9c253",
   "outputs": [
    {
     "name": "stdout",
     "output_type": "stream",
     "text": [
      "[False False  True  True  True  True]\n",
      "[ True False False False False False]\n",
      "[False  True False False False False]\n",
      "[False  True False]\n",
      "[False  True  True  True  True  True]\n",
      "[ True  True False False False False]\n"
     ]
    }
   ],
   "execution_count": 84
  },
  {
   "metadata": {
    "ExecuteTime": {
     "end_time": "2025-08-27T06:53:13.551666Z",
     "start_time": "2025-08-27T06:53:13.547235Z"
    }
   },
   "cell_type": "code",
   "source": [
    "# 邏輯「與」\n",
    "print(np.logical_and([1, 0, 1], [1, 1, 0]))\n",
    "# 邏輯「或」\n",
    "print(np.logical_or([1, 0, 1], [1, 1, 0]))\n",
    "# 邏輯「非」\n",
    "print(np.logical_not([1, 0, 1]))"
   ],
   "id": "945e33f6c3f690e5",
   "outputs": [
    {
     "name": "stdout",
     "output_type": "stream",
     "text": [
      "[ True False False]\n",
      "[ True  True  True]\n",
      "[False  True False]\n"
     ]
    }
   ],
   "execution_count": 67
  },
  {
   "metadata": {
    "ExecuteTime": {
     "end_time": "2025-08-27T07:19:09.440591Z",
     "start_time": "2025-08-27T07:19:09.436054Z"
    }
   },
   "cell_type": "code",
   "source": [
    "# 檢查元素是否至少有一個為True\n",
    "print(np.any([1, 1, 0, 0, 0, 1, 0]))\n",
    "print(np.any([0, 0, 0, 0, 0, 0, 0]))\n",
    "# 檢查元素是否全部為True\n",
    "print(np.all([1, 1, 0, 0, 0, 1, 0]))\n",
    "print(np.all([1, 1, 1, 1, 1, 1, 1]))"
   ],
   "id": "65ff6f264ad71dcc",
   "outputs": [
    {
     "name": "stdout",
     "output_type": "stream",
     "text": [
      "True\n",
      "False\n",
      "False\n",
      "True\n"
     ]
    }
   ],
   "execution_count": 81
  },
  {
   "metadata": {},
   "cell_type": "markdown",
   "source": "### 自定義條件",
   "id": "9e2aa7b4241e44f1"
  },
  {
   "metadata": {
    "ExecuteTime": {
     "end_time": "2025-08-27T07:04:38.969751Z",
     "start_time": "2025-08-27T07:04:38.965241Z"
    }
   },
   "cell_type": "code",
   "outputs": [
    {
     "name": "stdout",
     "output_type": "stream",
     "text": [
      "[1 2 3 4 5 0 0 0 0]\n"
     ]
    }
   ],
   "execution_count": 72,
   "source": [
    "# print(np.where(條件, 符合條件, 不符合條件))\n",
    "arr = np.array([1, 2, 3, 4, 5, 6, 7, 8, 9])\n",
    "print(np.where(arr>5, 0, arr))"
   ],
   "id": "6ebb0ff851404a14"
  },
  {
   "metadata": {
    "ExecuteTime": {
     "end_time": "2025-08-27T07:13:06.950544Z",
     "start_time": "2025-08-27T07:13:06.945545Z"
    }
   },
   "cell_type": "code",
   "source": [
    "# 範例：考試分數\n",
    "score = np.random.randint(40, 100, 10)\n",
    "print(score)\n",
    "print(np.where(score>=60, \"及格\", \"不及格\"))"
   ],
   "id": "b262d33b6c94b891",
   "outputs": [
    {
     "name": "stdout",
     "output_type": "stream",
     "text": [
      "[60 91 56 91 45 55 87 40 58 75]\n",
      "['及格' '及格' '不及格' '及格' '不及格' '不及格' '及格' '不及格' '不及格' '及格']\n"
     ]
    }
   ],
   "execution_count": 77
  },
  {
   "metadata": {
    "ExecuteTime": {
     "end_time": "2025-08-27T07:10:54.476010Z",
     "start_time": "2025-08-27T07:10:54.471117Z"
    }
   },
   "cell_type": "code",
   "source": [
    "# 嵌套方式\n",
    "# 範例：評分分為\"甲\"、\"乙\"、\"丙\"\n",
    "print(score)\n",
    "print(np.where(\n",
    "    score<60, \"丙\", np.where(\n",
    "        score<80, \"乙\", \"甲\"\n",
    "    ) \n",
    "))"
   ],
   "id": "7e8d3901dd3a2b44",
   "outputs": [
    {
     "name": "stdout",
     "output_type": "stream",
     "text": [
      "[79 63 86 64 57 77 65 53 48 49]\n",
      "['乙' '乙' '甲' '乙' '丙' '乙' '乙' '丙' '丙' '丙']\n"
     ]
    }
   ],
   "execution_count": 76
  },
  {
   "metadata": {
    "ExecuteTime": {
     "end_time": "2025-08-27T07:18:07.084010Z",
     "start_time": "2025-08-27T07:18:07.078462Z"
    }
   },
   "cell_type": "code",
   "source": [
    "# np.select(條件, 返回結果, default = 不符合條件)\n",
    "print(score)\n",
    "print(np.select([score>=80, (score<80) & (score>=60),score<60], [\"甲\", \"乙\", \"丙\"], default=\"缺考\"))"
   ],
   "id": "7de2756f5592eac4",
   "outputs": [
    {
     "name": "stdout",
     "output_type": "stream",
     "text": [
      "[60 91 56 91 45 55 87 40 58 75]\n",
      "['乙' '甲' '丙' '甲' '丙' '丙' '甲' '丙' '丙' '乙']\n"
     ]
    }
   ],
   "execution_count": 80
  },
  {
   "metadata": {
    "ExecuteTime": {
     "end_time": "2025-08-27T08:02:34.676273Z",
     "start_time": "2025-08-27T08:02:34.670892Z"
    }
   },
   "cell_type": "code",
   "source": [
    "# if 語句搭配 for 迴圈\n",
    "print(score)\n",
    "result_list = []\n",
    "\n",
    "for s in score:\n",
    "    if s < 60:\n",
    "        result_list.append(\"丙\")\n",
    "    elif s < 80: # 這裡不用寫 s>=60，因為第一個 if 已經排除了小於60的情況\n",
    "        result_list.append(\"乙\")\n",
    "    else: # 剩下的就是大於等於 80 的情況\n",
    "        result_list.append(\"甲\")\n",
    "\n",
    "print(np.array(result_list))"
   ],
   "id": "2c5c1bfc6e2241e1",
   "outputs": [
    {
     "name": "stdout",
     "output_type": "stream",
     "text": [
      "[60 91 56 91 45 55 87 40 58 75]\n",
      "['乙' '甲' '丙' '甲' '丙' '丙' '甲' '丙' '丙' '乙']\n"
     ]
    }
   ],
   "execution_count": 86
  },
  {
   "metadata": {
    "ExecuteTime": {
     "end_time": "2025-08-27T08:09:31.871195Z",
     "start_time": "2025-08-27T08:09:31.859653Z"
    }
   },
   "cell_type": "code",
   "source": [
    "# 排序函數\n",
    "np.random.seed(0)\n",
    "arr = np.random.randint(1, 100, 20)\n",
    "print(arr)\n",
    "# 不影響原始數據\n",
    "print(np.sort(arr))\n",
    "print(np.argsort(arr)) # 對應排序位置\n",
    "print(arr)\n",
    "\n",
    "# 影響原始數據\n",
    "# arr.sort()\n",
    "# print(arr)"
   ],
   "id": "c2f8933c31f18647",
   "outputs": [
    {
     "name": "stdout",
     "output_type": "stream",
     "text": [
      "[45 48 65 68 68 10 84 22 37 88 71 89 89 13 59 66 40 88 47 89]\n",
      "[10 13 22 37 40 45 47 48 59 65 66 68 68 71 84 88 88 89 89 89]\n",
      "[ 5 13  7  8 16  0 18  1 14  2 15  3  4 10  6  9 17 11 12 19]\n",
      "[45 48 65 68 68 10 84 22 37 88 71 89 89 13 59 66 40 88 47 89]\n"
     ]
    }
   ],
   "execution_count": 91
  },
  {
   "metadata": {
    "ExecuteTime": {
     "end_time": "2025-08-27T08:10:56.119459Z",
     "start_time": "2025-08-27T08:10:56.114941Z"
    }
   },
   "cell_type": "code",
   "source": [
    "# 去重函數\n",
    "print(np.unique(arr)) #同時進行排序"
   ],
   "id": "399da3a4b7c8fee8",
   "outputs": [
    {
     "name": "stdout",
     "output_type": "stream",
     "text": [
      "[10 13 22 37 40 45 47 48 59 65 66 68 71 84 88 89]\n"
     ]
    }
   ],
   "execution_count": 92
  },
  {
   "metadata": {
    "ExecuteTime": {
     "end_time": "2025-08-27T08:22:47.137972Z",
     "start_time": "2025-08-27T08:22:47.132841Z"
    }
   },
   "cell_type": "code",
   "source": [
    "# 陣列的拼接\n",
    "# 一維\n",
    "arr1 = np.array([1, 2, 3])\n",
    "arr2 = np.array([4, 5, 6])\n",
    "print(arr1 + arr2)\n",
    "print(np.concatenate((arr1, arr2)))\n",
    "\n",
    "# 二維\n",
    "arr3 = np.array([[1, 2, 3], [4, 5, 6]])\n",
    "arr4 = np.array([[4, 5, 6], [7, 8, 9]])\n",
    "print(arr3 + arr4)\n",
    "result = np.concatenate((arr3, arr4))\n",
    "print(np.concatenate((arr3, arr4)))\n",
    "print(\"陣列的形狀是:\", result.shape) "
   ],
   "id": "208b73663aab7659",
   "outputs": [
    {
     "name": "stdout",
     "output_type": "stream",
     "text": [
      "[5 7 9]\n",
      "[1 2 3 4 5 6]\n",
      "[[ 5  7  9]\n",
      " [11 13 15]]\n",
      "[[1 2 3]\n",
      " [4 5 6]\n",
      " [4 5 6]\n",
      " [7 8 9]]\n",
      "陣列的形狀是: (4, 3)\n"
     ]
    }
   ],
   "execution_count": 110
  },
  {
   "metadata": {
    "ExecuteTime": {
     "end_time": "2025-08-27T08:16:51.077550Z",
     "start_time": "2025-08-27T08:16:51.073016Z"
    }
   },
   "cell_type": "code",
   "source": [
    "# 陣列的分割\n",
    "print(np.split(arr, 4)) # 切割必須要是等分的，否則報錯\n",
    "print(np.split(arr, [6, 12, 18])) # 或是給切割位置索引"
   ],
   "id": "5126ffdbd2ade0c4",
   "outputs": [
    {
     "name": "stdout",
     "output_type": "stream",
     "text": [
      "[array([45, 48, 65, 68, 68], dtype=int32), array([10, 84, 22, 37, 88], dtype=int32), array([71, 89, 89, 13, 59], dtype=int32), array([66, 40, 88, 47, 89], dtype=int32)]\n",
      "[array([45, 48, 65, 68, 68, 10], dtype=int32), array([84, 22, 37, 88, 71, 89], dtype=int32), array([89, 13, 59, 66, 40, 88], dtype=int32), array([47, 89], dtype=int32)]\n"
     ]
    }
   ],
   "execution_count": 100
  },
  {
   "metadata": {
    "ExecuteTime": {
     "end_time": "2025-08-27T08:20:16.743894Z",
     "start_time": "2025-08-27T08:20:16.740687Z"
    }
   },
   "cell_type": "code",
   "source": [
    "# 調整陣列形狀 (需要能等分的)\n",
    "print(np.reshape(arr, [4, 5]))\n",
    "print(np.reshape(arr, [2, 10]))"
   ],
   "id": "9be97c9a03255fa8",
   "outputs": [
    {
     "name": "stdout",
     "output_type": "stream",
     "text": [
      "[[45 48 65 68 68]\n",
      " [10 84 22 37 88]\n",
      " [71 89 89 13 59]\n",
      " [66 40 88 47 89]]\n",
      "[[45 48 65 68 68 10 84 22 37 88]\n",
      " [71 89 89 13 59 66 40 88 47 89]]\n"
     ]
    }
   ],
   "execution_count": 104
  },
  {
   "metadata": {},
   "cell_type": "code",
   "outputs": [],
   "execution_count": null,
   "source": "",
   "id": "1beec3360d159bac"
  }
 ],
 "metadata": {
  "kernelspec": {
   "display_name": "Python 3",
   "language": "python",
   "name": "python3"
  },
  "language_info": {
   "codemirror_mode": {
    "name": "ipython",
    "version": 2
   },
   "file_extension": ".py",
   "mimetype": "text/x-python",
   "name": "python",
   "nbconvert_exporter": "python",
   "pygments_lexer": "ipython2",
   "version": "2.7.6"
  }
 },
 "nbformat": 4,
 "nbformat_minor": 5
}
